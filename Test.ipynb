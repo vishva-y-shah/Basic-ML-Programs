{
 "cells": [
  {
   "cell_type": "code",
   "execution_count": 1,
   "id": "7c0f9f37",
   "metadata": {},
   "outputs": [],
   "source": [
    "# !streamlit run Test.py"
   ]
  },
  {
   "cell_type": "code",
   "execution_count": null,
   "id": "3e70cd4f",
   "metadata": {},
   "outputs": [],
   "source": [
    "!streamlit run predict_with_pickle_module.py"
   ]
  },
  {
   "cell_type": "code",
   "execution_count": null,
   "id": "9aaf076b",
   "metadata": {},
   "outputs": [],
   "source": []
  }
 ],
 "metadata": {
  "kernelspec": {
   "display_name": "Python 3 (ipykernel)",
   "language": "python",
   "name": "python3"
  },
  "language_info": {
   "codemirror_mode": {
    "name": "ipython",
    "version": 3
   },
   "file_extension": ".py",
   "mimetype": "text/x-python",
   "name": "python",
   "nbconvert_exporter": "python",
   "pygments_lexer": "ipython3",
   "version": "3.11.4"
  }
 },
 "nbformat": 4,
 "nbformat_minor": 5
}
